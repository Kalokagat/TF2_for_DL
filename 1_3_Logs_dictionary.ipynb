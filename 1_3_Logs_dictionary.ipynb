{
  "nbformat": 4,
  "nbformat_minor": 0,
  "metadata": {
    "kernelspec": {
      "display_name": "Python 3",
      "language": "python",
      "name": "python3"
    },
    "language_info": {
      "codemirror_mode": {
        "name": "ipython",
        "version": 3
      },
      "file_extension": ".py",
      "mimetype": "text/x-python",
      "name": "python",
      "nbconvert_exporter": "python",
      "pygments_lexer": "ipython3",
      "version": "3.7.1"
    },
    "colab": {
      "name": "1_3_Logs_dictionary",
      "provenance": [],
      "include_colab_link": true
    }
  },
  "cells": [
    {
      "cell_type": "markdown",
      "metadata": {
        "id": "view-in-github",
        "colab_type": "text"
      },
      "source": [
        "<a href=\"https://colab.research.google.com/github/Kalokagat/TensorFlow-2-for-Deep-Learning/blob/main/1_3_Logs_dictionary.ipynb\" target=\"_parent\"><img src=\"https://colab.research.google.com/assets/colab-badge.svg\" alt=\"Open In Colab\"/></a>"
      ]
    },
    {
      "cell_type": "markdown",
      "metadata": {
        "id": "z-go5ElvwnAs"
      },
      "source": [
        "# Using the logs dictionary\n",
        "\n",
        "In this reading, we will learn how to take advantage of the `logs` dictionary in Keras to define our own callbacks and check the progress of a model."
      ]
    },
    {
      "cell_type": "code",
      "metadata": {
        "id": "SZn3gK7XwnAy",
        "colab": {
          "base_uri": "https://localhost:8080/"
        },
        "outputId": "76cbfaca-8402-44f0-f398-b29a0f2660f0"
      },
      "source": [
        "import tensorflow as tf\n",
        "print(tf.__version__)"
      ],
      "execution_count": null,
      "outputs": [
        {
          "output_type": "stream",
          "text": [
            "2.5.0\n"
          ],
          "name": "stdout"
        }
      ]
    },
    {
      "cell_type": "markdown",
      "metadata": {
        "id": "zksJTqyqwnA4"
      },
      "source": [
        "The `logs` dictionary stores the loss value, along with all of the metrics we are using at the end of a batch or epoch.\n",
        "\n",
        "We can incorporate information from the `logs` dictionary into our own custom callbacks.\n",
        "\n",
        "Let's see this in action in the context of a model we will construct and fit to the `sklearn` diabetes dataset that we have been using in this module.\n",
        "\n",
        "Let's first import the dataset, and split it into the training and test sets."
      ]
    },
    {
      "cell_type": "code",
      "metadata": {
        "id": "Hl41rdYfwnA7"
      },
      "source": [
        "# Load the diabetes dataset\n",
        "\n",
        "from sklearn.datasets import load_diabetes\n",
        "\n",
        "diabetes_dataset = load_diabetes()"
      ],
      "execution_count": null,
      "outputs": []
    },
    {
      "cell_type": "code",
      "metadata": {
        "id": "SGuitVaAwnA9"
      },
      "source": [
        "# Save the input and target variables\n",
        "\n",
        "from sklearn.model_selection import train_test_split\n",
        "\n",
        "data = diabetes_dataset['data']\n",
        "targets = diabetes_dataset['target']"
      ],
      "execution_count": null,
      "outputs": []
    },
    {
      "cell_type": "code",
      "metadata": {
        "id": "4CctD2HWwnBA"
      },
      "source": [
        "# Split the data set into training and test sets\n",
        "\n",
        "train_data, test_data, train_targets, test_targets = train_test_split(data, targets, test_size=0.1)"
      ],
      "execution_count": null,
      "outputs": []
    },
    {
      "cell_type": "markdown",
      "metadata": {
        "id": "0IxcBnSEwnBB"
      },
      "source": [
        "Now we construct our model."
      ]
    },
    {
      "cell_type": "code",
      "metadata": {
        "id": "VU0rkbdRwnBB"
      },
      "source": [
        "# Build the model\n",
        "\n",
        "from tensorflow.keras.models import Sequential\n",
        "from tensorflow.keras.layers import Dense\n",
        "\n",
        "model = tf.keras.Sequential([\n",
        "    Dense(128, activation='relu', input_shape=(train_data.shape[1],)),\n",
        "    Dense(64,activation='relu'),\n",
        "    tf.keras.layers.BatchNormalization(),\n",
        "    Dense(64, activation='relu'),\n",
        "    Dense(64, activation='relu'),\n",
        "    Dense(1)        \n",
        "])"
      ],
      "execution_count": null,
      "outputs": []
    },
    {
      "cell_type": "markdown",
      "metadata": {
        "id": "qy2s8UnGwnBD"
      },
      "source": [
        "We now compile the model, with\n",
        "* Mean squared error as the loss function,\n",
        "* the Adam optimizer, and \n",
        "* Mean absolute error (`mae`) as a metric."
      ]
    },
    {
      "cell_type": "code",
      "metadata": {
        "id": "vY7PfH3pwnBH"
      },
      "source": [
        "# Compile the model\n",
        "    \n",
        "model.compile(loss='mse', optimizer=\"adam\", metrics=['mae'])"
      ],
      "execution_count": null,
      "outputs": []
    },
    {
      "cell_type": "markdown",
      "metadata": {
        "id": "8rEtPpyQwnBL"
      },
      "source": [
        "### Defining a custom callback\n",
        "\n",
        "Now we define our custom callback using the `logs` dictionary to access the loss and metric values."
      ]
    },
    {
      "cell_type": "code",
      "metadata": {
        "id": "Lbfe12pwwnBN"
      },
      "source": [
        "# Create the custom callback\n",
        "\n",
        "class LossAndMetricCallback(tf.keras.callbacks.Callback):\n",
        "\n",
        "    # Print the loss after every second batch in the training set\n",
        "    def on_train_batch_end(self, batch, logs=None):\n",
        "        if batch %2 ==0:\n",
        "            print('\\n After batch {}, the loss is {:7.2f}.'.format(batch, logs['loss']))\n",
        "    \n",
        "    # Print the loss after each batch in the test set\n",
        "    def on_test_batch_end(self, batch, logs=None):\n",
        "        print('\\n After batch {}, the loss is {:7.2f}.'.format(batch, logs['loss']))\n",
        "\n",
        "    # Print the loss and mean absolute error after each epoch\n",
        "    def on_epoch_end(self, epoch, logs=None):\n",
        "        print('Epoch {}: Average loss is {:7.2f}, mean absolute error is {:7.2f}.'.format(epoch, logs['loss'], logs['mae']))\n",
        "    \n",
        "    # Notify the user when prediction has finished on each batch\n",
        "    def on_predict_batch_end(self,batch, logs=None):\n",
        "        print(\"Finished prediction on batch {}!\".format(batch))"
      ],
      "execution_count": null,
      "outputs": []
    },
    {
      "cell_type": "markdown",
      "metadata": {
        "id": "EXrWsGMvwnBP"
      },
      "source": [
        "We now fit the model to the data, and specify that we would like to use our custom callback `LossAndMetricCallback()`."
      ]
    },
    {
      "cell_type": "code",
      "metadata": {
        "id": "D7_J15iqwnBQ",
        "colab": {
          "base_uri": "https://localhost:8080/"
        },
        "outputId": "a642e3d9-35d0-4621-a551-9ec0111785fc"
      },
      "source": [
        "# Train the model\n",
        "\n",
        "history = model.fit(train_data, train_targets, epochs=20,\n",
        "                    batch_size=100, callbacks=[LossAndMetricCallback()], verbose=False)"
      ],
      "execution_count": null,
      "outputs": [
        {
          "output_type": "stream",
          "text": [
            "\n",
            " After batch 0, the loss is 27714.67.\n",
            "\n",
            " After batch 2, the loss is 30673.26.\n",
            "Epoch 0: Average loss is 29889.81, mean absolute error is  154.12.\n",
            "\n",
            " After batch 0, the loss is 28893.51.\n",
            "\n",
            " After batch 2, the loss is 28913.58.\n",
            "Epoch 1: Average loss is 29791.87, mean absolute error is  153.83.\n",
            "\n",
            " After batch 0, the loss is 28195.94.\n",
            "\n",
            " After batch 2, the loss is 29342.39.\n",
            "Epoch 2: Average loss is 29654.76, mean absolute error is  153.41.\n",
            "\n",
            " After batch 0, the loss is 30657.74.\n",
            "\n",
            " After batch 2, the loss is 29396.43.\n",
            "Epoch 3: Average loss is 29459.58, mean absolute error is  152.82.\n",
            "\n",
            " After batch 0, the loss is 26738.18.\n",
            "\n",
            " After batch 2, the loss is 31137.17.\n",
            "Epoch 4: Average loss is 29183.70, mean absolute error is  151.99.\n",
            "\n",
            " After batch 0, the loss is 30154.10.\n",
            "\n",
            " After batch 2, the loss is 28626.43.\n",
            "Epoch 5: Average loss is 28797.66, mean absolute error is  150.86.\n",
            "\n",
            " After batch 0, the loss is 26649.53.\n",
            "\n",
            " After batch 2, the loss is 29444.46.\n",
            "Epoch 6: Average loss is 28289.18, mean absolute error is  149.38.\n",
            "\n",
            " After batch 0, the loss is 30435.88.\n",
            "\n",
            " After batch 2, the loss is 27305.40.\n",
            "Epoch 7: Average loss is 27600.22, mean absolute error is  147.41.\n",
            "\n",
            " After batch 0, the loss is 23414.27.\n",
            "\n",
            " After batch 2, the loss is 27311.96.\n",
            "Epoch 8: Average loss is 26730.10, mean absolute error is  144.86.\n",
            "\n",
            " After batch 0, the loss is 26898.36.\n",
            "\n",
            " After batch 2, the loss is 25434.03.\n",
            "Epoch 9: Average loss is 25620.82, mean absolute error is  141.57.\n",
            "\n",
            " After batch 0, the loss is 25056.19.\n",
            "\n",
            " After batch 2, the loss is 24780.23.\n",
            "Epoch 10: Average loss is 24246.97, mean absolute error is  137.43.\n",
            "\n",
            " After batch 0, the loss is 23480.92.\n",
            "\n",
            " After batch 2, the loss is 22738.76.\n",
            "Epoch 11: Average loss is 22671.05, mean absolute error is  132.37.\n",
            "\n",
            " After batch 0, the loss is 22861.53.\n",
            "\n",
            " After batch 2, the loss is 21488.59.\n",
            "Epoch 12: Average loss is 20811.79, mean absolute error is  126.08.\n",
            "\n",
            " After batch 0, the loss is 21099.90.\n",
            "\n",
            " After batch 2, the loss is 19183.73.\n",
            "Epoch 13: Average loss is 18771.91, mean absolute error is  118.71.\n",
            "\n",
            " After batch 0, the loss is 15468.54.\n",
            "\n",
            " After batch 2, the loss is 16513.53.\n",
            "Epoch 14: Average loss is 16564.12, mean absolute error is  110.09.\n",
            "\n",
            " After batch 0, the loss is 14164.17.\n",
            "\n",
            " After batch 2, the loss is 13351.60.\n",
            "Epoch 15: Average loss is 14255.08, mean absolute error is  100.09.\n",
            "\n",
            " After batch 0, the loss is 13404.47.\n",
            "\n",
            " After batch 2, the loss is 12659.39.\n",
            "Epoch 16: Average loss is 12082.16, mean absolute error is   89.56.\n",
            "\n",
            " After batch 0, the loss is 7903.18.\n",
            "\n",
            " After batch 2, the loss is 9768.32.\n",
            "Epoch 17: Average loss is 10045.31, mean absolute error is   79.62.\n",
            "\n",
            " After batch 0, the loss is 10724.42.\n",
            "\n",
            " After batch 2, the loss is 8839.81.\n",
            "Epoch 18: Average loss is 8342.99, mean absolute error is   70.12.\n",
            "\n",
            " After batch 0, the loss is 6774.71.\n",
            "\n",
            " After batch 2, the loss is 7142.77.\n",
            "Epoch 19: Average loss is 6924.60, mean absolute error is   64.36.\n"
          ],
          "name": "stdout"
        }
      ]
    },
    {
      "cell_type": "markdown",
      "metadata": {
        "id": "epdXp0g6wnBQ"
      },
      "source": [
        "We can also use our callback in the `evaluate` function..."
      ]
    },
    {
      "cell_type": "code",
      "metadata": {
        "id": "Bpb4GhKewnBR",
        "colab": {
          "base_uri": "https://localhost:8080/"
        },
        "outputId": "21309b5a-593e-4f37-cdff-ca80a4802bb8"
      },
      "source": [
        "# Evaluate the model\n",
        "\n",
        "model_eval = model.evaluate(test_data, test_targets, batch_size=10, \n",
        "                            callbacks=[LossAndMetricCallback()], verbose=False)"
      ],
      "execution_count": null,
      "outputs": [
        {
          "output_type": "stream",
          "text": [
            "\n",
            " After batch 0, the loss is 19383.26.\n",
            "\n",
            " After batch 1, the loss is 15490.40.\n",
            "\n",
            " After batch 2, the loss is 14006.25.\n",
            "\n",
            " After batch 3, the loss is 13741.37.\n",
            "\n",
            " After batch 4, the loss is 13739.13.\n"
          ],
          "name": "stdout"
        }
      ]
    },
    {
      "cell_type": "markdown",
      "metadata": {
        "id": "kmt4n19SwnBT"
      },
      "source": [
        "...And also the `predict` function."
      ]
    },
    {
      "cell_type": "code",
      "metadata": {
        "id": "nFh2tMVBwnBT",
        "colab": {
          "base_uri": "https://localhost:8080/"
        },
        "outputId": "602902a9-9392-4467-cff8-688d9f0cd775"
      },
      "source": [
        "# Get predictions from the model\n",
        "\n",
        "model_pred = model.predict(test_data, batch_size=10,\n",
        "                           callbacks=[LossAndMetricCallback()], verbose=False)"
      ],
      "execution_count": null,
      "outputs": [
        {
          "output_type": "stream",
          "text": [
            "Finished prediction on batch 0!\n",
            "Finished prediction on batch 1!\n",
            "Finished prediction on batch 2!\n",
            "Finished prediction on batch 3!\n",
            "Finished prediction on batch 4!\n"
          ],
          "name": "stdout"
        }
      ]
    },
    {
      "cell_type": "markdown",
      "metadata": {
        "id": "l2MJr6VpwnBU"
      },
      "source": [
        "### Application - learning rate scheduler\n",
        "Let's now look at a more sophisticated custom callback. \n",
        "\n",
        "We are going to define a callback to change the learning rate of the optimiser of a model during training. We will do this by specifying the epochs and new learning rates where we would like it to be changed.\n",
        "\n",
        "First we define the auxillary function that returns the learning rate for each epoch based on our schedule."
      ]
    },
    {
      "cell_type": "code",
      "metadata": {
        "id": "CCOrS8yownBV"
      },
      "source": [
        "# Define the learning rate schedule. The tuples below are (start_epoch, new_learning_rate)\n",
        "\n",
        "lr_schedule = [\n",
        "    (4, 0.03), (7, 0.02), (11, 0.005), (15, 0.007)\n",
        "]\n",
        "\n",
        "def get_new_epoch_lr(epoch, lr):\n",
        "    # Checks to see if the input epoch is listed in the learning rate schedule \n",
        "    # and if so, returns index in lr_schedule\n",
        "    epoch_in_sched = [i for i in range(len(lr_schedule)) if lr_schedule[i][0]==int(epoch)]\n",
        "    if len(epoch_in_sched)>0:\n",
        "        # If it is, return the learning rate corresponding to the epoch\n",
        "        return lr_schedule[epoch_in_sched[0]][1]\n",
        "    else:\n",
        "        # Otherwise, return the existing learning rate\n",
        "        return lr"
      ],
      "execution_count": null,
      "outputs": []
    },
    {
      "cell_type": "markdown",
      "metadata": {
        "id": "vcUfxrHkwnBW"
      },
      "source": [
        "Let's now define the callback itself."
      ]
    },
    {
      "cell_type": "code",
      "metadata": {
        "id": "7ohspg1XwnBX"
      },
      "source": [
        "# Define the custom callback\n",
        "\n",
        "class LRScheduler(tf.keras.callbacks.Callback):\n",
        "    \n",
        "    def __init__(self, new_lr):\n",
        "        super(LRScheduler, self).__init__()\n",
        "        # Add the new learning rate function to our callback\n",
        "        self.new_lr = new_lr\n",
        "\n",
        "    def on_epoch_begin(self, epoch, logs=None):\n",
        "        # Make sure that the optimizer we have chosen has a learning rate, and raise an error if not\n",
        "        if not hasattr(self.model.optimizer, 'lr'):\n",
        "              raise ValueError('Error: Optimizer does not have a learning rate.')\n",
        "                \n",
        "        # Get the current learning rate\n",
        "        curr_rate = float(tf.keras.backend.get_value(self.model.optimizer.lr))\n",
        "        \n",
        "        # Call the auxillary function to get the scheduled learning rate for the current epoch\n",
        "        scheduled_rate = self.new_lr(epoch, curr_rate)\n",
        "\n",
        "        # Set the learning rate to the scheduled learning rate\n",
        "        tf.keras.backend.set_value(self.model.optimizer.lr, scheduled_rate)\n",
        "        print('Learning rate for epoch {} is {:7.3f}'.format(epoch, scheduled_rate))"
      ],
      "execution_count": null,
      "outputs": []
    },
    {
      "cell_type": "markdown",
      "metadata": {
        "id": "mQSVbg_FwnBZ"
      },
      "source": [
        "Let's now train the model again with our new callback. "
      ]
    },
    {
      "cell_type": "code",
      "metadata": {
        "id": "pMBIoxgpwnBa"
      },
      "source": [
        "# Build the same model as before\n",
        "\n",
        "new_model = tf.keras.Sequential([\n",
        "    Dense(128, activation='relu', input_shape=(train_data.shape[1],)),\n",
        "    Dense(64,activation='relu'),\n",
        "    tf.keras.layers.BatchNormalization(),\n",
        "    Dense(64, activation='relu'),\n",
        "    Dense(64, activation='relu'),\n",
        "    Dense(1)        \n",
        "])"
      ],
      "execution_count": null,
      "outputs": []
    },
    {
      "cell_type": "code",
      "metadata": {
        "id": "0ZY1a2NlwnBc"
      },
      "source": [
        "# Compile the model\n",
        "\n",
        "new_model.compile(loss='mse',\n",
        "                optimizer=\"adam\",\n",
        "                metrics=['mae', 'mse'])"
      ],
      "execution_count": null,
      "outputs": []
    },
    {
      "cell_type": "code",
      "metadata": {
        "id": "DVAMflhLwnBd",
        "colab": {
          "base_uri": "https://localhost:8080/"
        },
        "outputId": "bae780a3-7b87-409b-9004-c53189ecf9a4"
      },
      "source": [
        "# Fit the model with our learning rate scheduler callback\n",
        "\n",
        "new_history = new_model.fit(train_data, train_targets, epochs=20,\n",
        "                            batch_size=100, callbacks=[LRScheduler(get_new_epoch_lr)], verbose=False)"
      ],
      "execution_count": null,
      "outputs": [
        {
          "output_type": "stream",
          "text": [
            "Learning rate for epoch 0 is   0.001\n",
            "Learning rate for epoch 1 is   0.001\n",
            "Learning rate for epoch 2 is   0.001\n",
            "Learning rate for epoch 3 is   0.001\n",
            "Learning rate for epoch 4 is   0.030\n",
            "Learning rate for epoch 5 is   0.030\n",
            "Learning rate for epoch 6 is   0.030\n",
            "Learning rate for epoch 7 is   0.020\n",
            "Learning rate for epoch 8 is   0.020\n",
            "Learning rate for epoch 9 is   0.020\n",
            "Learning rate for epoch 10 is   0.020\n",
            "Learning rate for epoch 11 is   0.005\n",
            "Learning rate for epoch 12 is   0.005\n",
            "Learning rate for epoch 13 is   0.005\n",
            "Learning rate for epoch 14 is   0.005\n",
            "Learning rate for epoch 15 is   0.007\n",
            "Learning rate for epoch 16 is   0.007\n",
            "Learning rate for epoch 17 is   0.007\n",
            "Learning rate for epoch 18 is   0.007\n",
            "Learning rate for epoch 19 is   0.007\n"
          ],
          "name": "stdout"
        }
      ]
    },
    {
      "cell_type": "markdown",
      "metadata": {
        "id": "wL4wv0g3wnBe"
      },
      "source": [
        "### Further reading and resources\n",
        "* https://www.tensorflow.org/guide/keras/custom_callback\n",
        "* https://www.tensorflow.org/api_docs/python/tf/keras/callbacks/Callback"
      ]
    }
  ]
}